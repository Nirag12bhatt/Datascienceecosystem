{
 "cells": [
  {
   "cell_type": "markdown",
   "id": "17a6f8e8",
   "metadata": {},
   "source": [
    "# Data Science Tools and Ecosystem"
   ]
  },
  {
   "cell_type": "markdown",
   "id": "4cc98f7c",
   "metadata": {},
   "source": [
    "## In this notebook, Data science tools and Ecosystem are summerized."
   ]
  },
  {
   "cell_type": "markdown",
   "id": "41bbf0f1",
   "metadata": {},
   "source": [
    "### Some of the key takeaways from the cource:\n",
    "**objective:**\n",
    "* List popular language for Data Science\n",
    "* List Data science library\n",
    "* Arithmetic equation\n",
    "* List of Data science library\n"
   ]
  },
  {
   "cell_type": "markdown",
   "id": "2946c912",
   "metadata": {},
   "source": [
    "### Some of the popular language that Data Scientists use are:\n",
    "1. Python\n",
    "2. R\n",
    "3. Scala"
   ]
  },
  {
   "cell_type": "markdown",
   "id": "a7acfd06",
   "metadata": {},
   "source": [
    "### Some of commenly used Data Science library are:\n",
    "1. Matplotlin\n",
    "2. Pandas\n",
    "3. Tensorflow"
   ]
  },
  {
   "cell_type": "markdown",
   "id": "8ca73675",
   "metadata": {},
   "source": [
    "| Data science tools|\n",
    "|-|\n",
    "| Jupytoer notebook|\n",
    "| MongoDB|\n",
    "| Apache Spark|"
   ]
  },
  {
   "cell_type": "markdown",
   "id": "978ca6a0",
   "metadata": {},
   "source": [
    "### Below are a few example of evaluating arithmatic expressions in Python."
   ]
  },
  {
   "cell_type": "code",
   "execution_count": 1,
   "id": "822b5c29",
   "metadata": {},
   "outputs": [
    {
     "data": {
      "text/plain": [
       "17"
      ]
     },
     "execution_count": 1,
     "metadata": {},
     "output_type": "execute_result"
    }
   ],
   "source": [
    "# This is simple arithmetic expression\n",
    "(3*4)+5"
   ]
  },
  {
   "cell_type": "code",
   "execution_count": 7,
   "id": "dc03da56",
   "metadata": {},
   "outputs": [
    {
     "name": "stdout",
     "output_type": "stream",
     "text": [
      "Hour - 3 : 20\n"
     ]
    }
   ],
   "source": [
    "# This will convort 200 minutes to hours by dicided by 60\n",
    "\n",
    "minutes = 200\n",
    "print(\"Hour -\", int(minute/60), \":\", minute % 60)"
   ]
  },
  {
   "cell_type": "markdown",
   "id": "0adbe73d",
   "metadata": {},
   "source": [
    "## Author\n",
    "Nirag Bhatt\n"
   ]
  },
  {
   "cell_type": "code",
   "execution_count": null,
   "id": "781f4553",
   "metadata": {},
   "outputs": [],
   "source": []
  }
 ],
 "metadata": {
  "kernelspec": {
   "display_name": "Python 3 (ipykernel)",
   "language": "python",
   "name": "python3"
  },
  "language_info": {
   "codemirror_mode": {
    "name": "ipython",
    "version": 3
   },
   "file_extension": ".py",
   "mimetype": "text/x-python",
   "name": "python",
   "nbconvert_exporter": "python",
   "pygments_lexer": "ipython3",
   "version": "3.10.9"
  }
 },
 "nbformat": 4,
 "nbformat_minor": 5
}
